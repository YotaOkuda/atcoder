{
 "cells": [
  {
   "cell_type": "markdown",
   "metadata": {},
   "source": [
    "# ABC 085 C - Otoshidama"
   ]
  },
  {
   "cell_type": "markdown",
   "metadata": {},
   "source": [
    "### TLEになる  \n",
    "O(N^3)なので最大のN=2000の時にはN^3=8000000000となりTLE"
   ]
  },
  {
   "cell_type": "code",
   "execution_count": null,
   "metadata": {},
   "outputs": [],
   "source": [
    "N, Y = map(int, input().split())\n",
    "\n",
    "ares, bres, cres = -1, -1, -1\n",
    "\n",
    "for a in range(N + 1):\n",
    "    for b in range(N + 1):\n",
    "        for c in range(N + 1):\n",
    "            if a + b + c == N and 10000*a + 5000*b + 1000*c == Y:\n",
    "                ares, bres, cres = a, b, c\n",
    "            \n",
    "print(ares, bres, cres)\n"
   ]
  },
  {
   "cell_type": "markdown",
   "metadata": {},
   "source": [
    "計算量：O(N^3)"
   ]
  },
  {
   "cell_type": "markdown",
   "metadata": {},
   "source": [
    "### 対策として3つの変数を動かすのではなく2つを動かす"
   ]
  },
  {
   "cell_type": "code",
   "execution_count": null,
   "metadata": {},
   "outputs": [],
   "source": [
    "N, Y = map(int, input().split())\n",
    "\n",
    "ares, bres, cres = -1, -1, -1\n",
    "\n",
    "for a in range(N + 1):\n",
    "    for b in range(N + 1):\n",
    "        c = N - a - b\n",
    "        if c < 0 or c > N:\n",
    "            continue\n",
    "        \n",
    "        if 10000*a + 5000*b + 1000*c== Y:\n",
    "            ares, bres, cres = a, b, c\n",
    "\n",
    "print(ares, bres, cres)            "
   ]
  },
  {
   "cell_type": "markdown",
   "metadata": {},
   "source": [
    "a,bが決まればcは自動的にN-a-b枚となる  \n",
    "cが0より小さい、Nより大きい場合はスキップ  \n",
    "計算量：O(N^2)"
   ]
  }
 ],
 "metadata": {
  "language_info": {
   "name": "python"
  }
 },
 "nbformat": 4,
 "nbformat_minor": 2
}
