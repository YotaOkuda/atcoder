{
 "cells": [
  {
   "cell_type": "code",
   "execution_count": null,
   "metadata": {},
   "outputs": [],
   "source": [
    "s_1 = ''.join(sorted(str(input())))\n",
    "s_2 = sorted(str(input()))"
   ]
  },
  {
   "cell_type": "markdown",
   "metadata": {},
   "source": [
    "入力された文字列をソートしたら、各文字が連結されていないのでjoinで1つの文字列に戻す  \n",
    "s_1:abds  \n",
    "s_2:['a', 'b', 'c', 's']"
   ]
  }
 ],
 "metadata": {
  "language_info": {
   "name": "python"
  }
 },
 "nbformat": 4,
 "nbformat_minor": 2
}
